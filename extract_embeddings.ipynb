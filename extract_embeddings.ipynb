{
  "nbformat": 4,
  "nbformat_minor": 0,
  "metadata": {
    "colab": {
      "name": "extract_embeddings.ipynb",
      "provenance": [],
      "authorship_tag": "ABX9TyMtjD/mZXKLsxF8rX+0HYLc",
      "include_colab_link": true
    },
    "kernelspec": {
      "name": "python3",
      "display_name": "Python 3"
    },
    "language_info": {
      "name": "python"
    }
  },
  "cells": [
    {
      "cell_type": "markdown",
      "metadata": {
        "id": "view-in-github",
        "colab_type": "text"
      },
      "source": [
        "<a href=\"https://colab.research.google.com/github/mtran14/AUglove/blob/main/extract_embeddings.ipynb\" target=\"_parent\"><img src=\"https://colab.research.google.com/assets/colab-badge.svg\" alt=\"Open In Colab\"/></a>"
      ]
    },
    {
      "cell_type": "code",
      "metadata": {
        "id": "U1r6k6x1POPq"
      },
      "source": [
        "glove_path = \"/content/glove_embeddings_100_1000cluster_v2.csv\"\n",
        "word2id_path = \"/content/word2ind_1000_v2.csv\""
      ],
      "execution_count": 1,
      "outputs": []
    },
    {
      "cell_type": "code",
      "metadata": {
        "id": "jJCPp62tT0mc"
      },
      "source": [
        "import pandas as pd\n",
        "import numpy as np\n",
        "\n",
        "word2ind_data = pd.read_csv(word2id_path, header=None).values\n",
        "ind2word = {}\n",
        "for i in range(word2ind_data.shape[0]):\n",
        "  current_row = word2ind_data[i]\n",
        "  ind2word[current_row[1]] = current_row[0]"
      ],
      "execution_count": 4,
      "outputs": []
    },
    {
      "cell_type": "code",
      "metadata": {
        "colab": {
          "base_uri": "https://localhost:8080/"
        },
        "id": "RQ8DIo61UYs5",
        "outputId": "036d9404-62e5-436c-d8aa-cd10787fdd55"
      },
      "source": [
        "embeddings_index = dict()\n",
        "data_embed = pd.read_csv(glove_path, header=None).values\n",
        "for i in range(data_embed.shape[0]):\n",
        "    word = ind2word[i]\n",
        "    coefs = data_embed[i]\n",
        "    embeddings_index[word] = coefs\n",
        "emb_size = data_embed.shape[1]\n",
        "print(emb_size)"
      ],
      "execution_count": 7,
      "outputs": [
        {
          "output_type": "stream",
          "text": [
            "100\n"
          ],
          "name": "stdout"
        }
      ]
    },
    {
      "cell_type": "code",
      "metadata": {
        "id": "Fip3YTZsUejG"
      },
      "source": [
        "sample_sequence = '<START> c804 c305 c102 <unk> c15 c425 c425 <END>'"
      ],
      "execution_count": 9,
      "outputs": []
    },
    {
      "cell_type": "code",
      "metadata": {
        "colab": {
          "base_uri": "https://localhost:8080/"
        },
        "id": "jhiPqxuxU085",
        "outputId": "423b29c5-e0e8-48d5-aa95-f971b15e3d24"
      },
      "source": [
        "output_embeddings = []\n",
        "for word in sample_sequence.split():\n",
        "  output_embeddings.append(embeddings_index[word])\n",
        "output_embeddings = np.array(output_embeddings)\n",
        "print(output_embeddings.shape)"
      ],
      "execution_count": 11,
      "outputs": [
        {
          "output_type": "stream",
          "text": [
            "(9, 100)\n"
          ],
          "name": "stdout"
        }
      ]
    }
  ]
}