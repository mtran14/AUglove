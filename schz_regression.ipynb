{
  "nbformat": 4,
  "nbformat_minor": 0,
  "metadata": {
    "colab": {
      "name": "schz_regression.ipynb",
      "provenance": [],
      "collapsed_sections": [],
      "mount_file_id": "1u491-5ZOqm5PnCto5iyoqv83yJZpe24f",
      "authorship_tag": "ABX9TyNTdnJFZsBu33MsqDozc6j4",
      "include_colab_link": true
    },
    "kernelspec": {
      "name": "python3",
      "display_name": "Python 3"
    },
    "language_info": {
      "name": "python"
    },
    "accelerator": "GPU"
  },
  "cells": [
    {
      "cell_type": "markdown",
      "metadata": {
        "id": "view-in-github",
        "colab_type": "text"
      },
      "source": [
        "<a href=\"https://colab.research.google.com/github/mtran14/AUglove/blob/main/schz_regression.ipynb\" target=\"_parent\"><img src=\"https://colab.research.google.com/assets/colab-badge.svg\" alt=\"Open In Colab\"/></a>"
      ]
    },
    {
      "cell_type": "code",
      "metadata": {
        "id": "3NX3alLFIh__"
      },
      "source": [
        "import pandas as pd\n",
        "\n",
        "file_path = \"/content/drive/MyDrive/PORQ_demographicsClinicalCharacteristics_LABELS.csv\"\n",
        "df = pd.read_csv(file_path)\n",
        "headers = list(df.columns)\n",
        "data = df.values"
      ],
      "execution_count": null,
      "outputs": []
    },
    {
      "cell_type": "code",
      "metadata": {
        "id": "63QPrl-eJOYB"
      },
      "source": [
        "cains_exp = ['Item 10: Facial Expression', 'Item 11: Vocal Expression', 'Item 12: Expressive Gestures', 'Item 13: Quantity of Speech']\n",
        "painss_col = headers[218:228]"
      ],
      "execution_count": null,
      "outputs": []
    },
    {
      "cell_type": "code",
      "metadata": {
        "id": "lknjk7NZn0Gb"
      },
      "source": [
        "painss_col = [headers[219], headers[221], headers[222], headers[223], headers[224]]"
      ],
      "execution_count": null,
      "outputs": []
    },
    {
      "cell_type": "code",
      "metadata": {
        "id": "X8_wOqMTJv4P"
      },
      "source": [
        "participant_col = data[:,0]\n",
        "labels = []\n",
        "for feature in cains_exp:\n",
        "  labels_dict = {}\n",
        "  label_col = data[:, headers.index(feature)]\n",
        "  for i in range(data.shape[0]):\n",
        "    try:\n",
        "      current_id = int(participant_col[i])\n",
        "    except:\n",
        "      continue\n",
        "    current_label = label_col[i]\n",
        "    if(current_label == current_label):\n",
        "      current_label = int(current_label.split('(')[1].split(')')[0])\n",
        "      labels_dict[current_id] = current_label\n",
        "  labels.append(labels_dict)"
      ],
      "execution_count": null,
      "outputs": []
    },
    {
      "cell_type": "code",
      "metadata": {
        "id": "jxhIfvfWhVx6"
      },
      "source": [
        "participant_col = data[:,0]\n",
        "labels = []\n",
        "for feature in painss_col:\n",
        "  labels_dict = {}\n",
        "  label_col = data[:, headers.index(feature)]\n",
        "  for i in range(data.shape[0]):\n",
        "    try:\n",
        "      current_id = int(participant_col[i])\n",
        "    except:\n",
        "      continue\n",
        "    current_label = label_col[i]\n",
        "    if(current_label == current_label):\n",
        "      current_label = int(current_label)\n",
        "      labels_dict[current_id] = current_label\n",
        "  labels.append(labels_dict)"
      ],
      "execution_count": null,
      "outputs": []
    },
    {
      "cell_type": "code",
      "metadata": {
        "id": "oQZapiYtY2tV",
        "colab": {
          "base_uri": "https://localhost:8080/"
        },
        "outputId": "d5f82d15-cddb-42a5-8c58-616724cf30aa"
      },
      "source": [
        "labels[0]"
      ],
      "execution_count": null,
      "outputs": [
        {
          "output_type": "execute_result",
          "data": {
            "text/plain": [
              "{7001: 4,\n",
              " 7002: 1,\n",
              " 7003: 1,\n",
              " 7005: 1,\n",
              " 7006: 1,\n",
              " 7007: 3,\n",
              " 7008: 1,\n",
              " 7009: 3,\n",
              " 7010: 1,\n",
              " 7011: 1,\n",
              " 7012: 1,\n",
              " 7013: 5,\n",
              " 7014: 1,\n",
              " 7016: 1,\n",
              " 7017: 1,\n",
              " 7020: 1,\n",
              " 7022: 1,\n",
              " 7024: 5,\n",
              " 7027: 4,\n",
              " 7029: 1,\n",
              " 7030: 1,\n",
              " 7033: 3,\n",
              " 7034: 4,\n",
              " 7037: 2,\n",
              " 7039: 4,\n",
              " 7040: 1,\n",
              " 7041: 2,\n",
              " 7042: 1,\n",
              " 7043: 1,\n",
              " 7044: 1,\n",
              " 7045: 3,\n",
              " 7050: 2,\n",
              " 7053: 4,\n",
              " 7055: 1,\n",
              " 7057: 1,\n",
              " 7061: 3,\n",
              " 7063: 4,\n",
              " 7064: 4,\n",
              " 7065: 2,\n",
              " 7066: 3,\n",
              " 7067: 1,\n",
              " 7068: 1,\n",
              " 7069: 4,\n",
              " 7074: 1,\n",
              " 7077: 1,\n",
              " 7079: 2,\n",
              " 7082: 1,\n",
              " 7083: 2,\n",
              " 7084: 1,\n",
              " 7085: 2,\n",
              " 7087: 2,\n",
              " 7088: 1,\n",
              " 7094: 4,\n",
              " 7096: 5,\n",
              " 7097: 3}"
            ]
          },
          "metadata": {
            "tags": []
          },
          "execution_count": 6
        }
      ]
    },
    {
      "cell_type": "code",
      "metadata": {
        "id": "V0Syi7OlKxEt"
      },
      "source": [
        "remove_id = [8093,7061, 8074, 8072, 8071, 7077]"
      ],
      "execution_count": null,
      "outputs": []
    },
    {
      "cell_type": "code",
      "metadata": {
        "id": "UtMJxZLuQsHo"
      },
      "source": [
        "def filter_files(filename):\n",
        "    valid_info = []\n",
        "    drugcond_data = pd.read_excel(\"/content/drive/MyDrive/PORQ_drugUnblinding.xlsx\").values\n",
        "    for row in drugcond_data:\n",
        "        valid_info.append(row[:-1])\n",
        "\n",
        "    for sess_info in valid_info:\n",
        "        current_id = sess_info[0]\n",
        "        current_day = sess_info[1]\n",
        "        current_timestamp = str(sess_info[2])[:10]\n",
        "\n",
        "        if(str(current_id) in filename and \\\n",
        "           \"Day\" + str(current_day) in filename and \\\n",
        "           current_timestamp in filename):\n",
        "            return sess_info[3]\n",
        "    return \"\"\n",
        "\n",
        "\n",
        "def ccc(y_true, y_pred):\n",
        "    cor=np.corrcoef(y_true,y_pred)[0][1]\n",
        "    \n",
        "    mean_true=np.mean(y_true)\n",
        "    mean_pred=np.mean(y_pred)\n",
        "    \n",
        "    var_true=np.var(y_true)\n",
        "    var_pred=np.var(y_pred)\n",
        "    \n",
        "    sd_true=np.std(y_true)\n",
        "    sd_pred=np.std(y_pred)\n",
        "    \n",
        "    numerator=2*cor*sd_true*sd_pred\n",
        "    \n",
        "    denominator=var_true+var_pred+(mean_true-mean_pred)**2\n",
        "\n",
        "    return numerator/denominator"
      ],
      "execution_count": null,
      "outputs": []
    },
    {
      "cell_type": "code",
      "metadata": {
        "id": "Qq8s92EnQ_lC"
      },
      "source": [
        "import pandas as pd\n",
        "distance_threshold = 1.75\n",
        "\n",
        "freq_threshold = 500\n",
        "data_freq = pd.read_csv(\"/content/drive/MyDrive/cluster_counter_1000.csv\", header=None).values\n",
        "unk_clusters = []\n",
        "for i in range(data_freq.shape[0]):\n",
        "    if(data_freq[i][1] <= freq_threshold):\n",
        "        unk_clusters.append(i)"
      ],
      "execution_count": null,
      "outputs": []
    },
    {
      "cell_type": "code",
      "metadata": {
        "id": "cptsYOxAKx9n"
      },
      "source": [
        "import re \n",
        "\n",
        "X = []\n",
        "y = []\n",
        "y_file = []\n",
        "max_len = 20000\n",
        "data = pd.read_csv(\"/content/drive/MyDrive/schz_info1000.csv\", header=None).values\n",
        "sentences = []\n",
        "target = []\n",
        "\n",
        "condition_t = \"OT\"\n",
        "# session = \"feel\"\n",
        "pid_dict = {}\n",
        "\n",
        "skip_list = []\n",
        "for i in range(data.shape[0]):\n",
        "  split = data[i][1]\n",
        "  file = data[i][0]\n",
        "  participant_id = int(re.findall(r'\\d+', file)[0])\n",
        "  if(participant_id in remove_id):\n",
        "    continue\n",
        "  condition = filter_files(file)\n",
        "  # if(condition != condition_t and participant_id < 8000):\n",
        "  #   continue\n",
        "  if(participant_id < 8000):\n",
        "    continue\n",
        "  pid_dict[participant_id] = 0\n",
        "  if('watch' in file):\n",
        "    continue\n",
        "\n",
        "  row = data[i][2]\n",
        "  row = row.replace('\\n','')\n",
        "  tokens = row.split()\n",
        "  assert len(tokens) % 2 == 0\n",
        "  text_part = tokens[0:len(tokens)//2]\n",
        "  distances_part = tokens[len(tokens)//2:len(tokens)]\n",
        "  current_str = ''\n",
        "  for i in range(min(len(text_part), max_len)):\n",
        "      current_token = text_part[i]\n",
        "      current_distance = float(distances_part[i])\n",
        "      if(current_distance <= distance_threshold):\n",
        "          current_cluster_in_int = int(current_token[1:])\n",
        "          if(current_cluster_in_int not in unk_clusters):\n",
        "              current_str += current_token + ' '\n",
        "          else:\n",
        "              current_str += '<unk> '\n",
        "      else:\n",
        "          current_str += '<unk> '\n",
        "  current_str = current_str.strip()\n",
        "  current_str_list = current_str.strip()\n",
        "  X.append(current_str)\n",
        "  y.append(participant_id)\n",
        "  y_file.append(file)"
      ],
      "execution_count": null,
      "outputs": []
    },
    {
      "cell_type": "code",
      "metadata": {
        "id": "TmcB2dqDK03d"
      },
      "source": [
        "from sklearn.model_selection import KFold, StratifiedKFold\n",
        "import numpy as np\n",
        "import random\n",
        "nfold = 10\n",
        "import pandas as pd\n",
        "import re\n",
        "mseed = 42\n",
        "kf = KFold(n_splits=nfold, random_state = mseed, shuffle=True)\n",
        "fold_info = []\n",
        "fold_file = []\n",
        "unique_ids = list(set(y))\n",
        "\n",
        "for train_index, test_index in kf.split(y):\n",
        "  X_train, X_test = np.array(X)[train_index], np.array(X)[test_index]\n",
        "  y_train_id, y_test_id = np.array(y)[train_index], np.array(y)[test_index]\n",
        "  y_train_file, y_test_file = np.array(y_file)[train_index], np.array(y_file)[test_index]\n",
        "  fold_info.append([X_train, X_test, y_train_id, y_test_id])\n",
        "  fold_file.append([y_train_file, y_test_file])\n",
        "# filter_unique_ids = []\n",
        "# for id in unique_ids:\n",
        "#   if(id in labels[0].keys()):\n",
        "#     filter_unique_ids.append(id)\n",
        "\n",
        "# for train_index, test_index in kf.split(filter_unique_ids):\n",
        "#   train_ids, test_ids = np.array(filter_unique_ids)[train_index], np.array(filter_unique_ids)[test_index]\n",
        "#   X_train, X_test = [], []\n",
        "#   y_train_id, y_test_id = [], []\n",
        "#   y_train_file, y_test_file = [], []\n",
        "#   for i in range(len(y)):\n",
        "#     if(y[i] in train_ids):\n",
        "#       X_train.append(X[i])\n",
        "#       y_train_id.append(y[i])\n",
        "#       y_train_file.append(y_file[i])\n",
        "#     elif(y[i] in test_ids):\n",
        "#       X_test.append(X[i])\n",
        "#       y_test_id.append(y[i])\n",
        "#       y_test_file.append(y_file[i])\n",
        "#   fold_info.append([X_train, X_test, y_train_id, y_test_id])\n",
        "#   fold_file.append([y_train_file, y_test_file])"
      ],
      "execution_count": null,
      "outputs": []
    },
    {
      "cell_type": "code",
      "metadata": {
        "colab": {
          "base_uri": "https://localhost:8080/"
        },
        "id": "H_CuCyuq2CFH",
        "outputId": "aee37fb7-2c41-4c5f-a8a3-58c9b15a77ab"
      },
      "source": [
        ""
      ],
      "execution_count": null,
      "outputs": [
        {
          "output_type": "execute_result",
          "data": {
            "text/plain": [
              "443"
            ]
          },
          "metadata": {
            "tags": []
          },
          "execution_count": 23
        }
      ]
    },
    {
      "cell_type": "code",
      "metadata": {
        "id": "oGG0ZGQxlxwd"
      },
      "source": [
        "from sklearn.metrics import mean_squared_error\n",
        "from scipy.stats import pearsonr\n",
        "\n",
        "for l in range(len(painss_col)):\n",
        "  overall = []\n",
        "  for f in range(nfold):\n",
        "    X_train = fold_info[f][0]\n",
        "    X_test = fold_info[f][1]\n",
        "    y_train_id = fold_info[f][2]\n",
        "    y_test_id = fold_info[f][3]\n",
        "    \n",
        "    n_val = len(X_train) // 4\n",
        "    X_val = X_train[:n_val]\n",
        "    X_train = X_train[n_val:]\n",
        "    y_val_id = y_train_id[:n_val]\n",
        "    y_train_id = y_train_id[n_val:]\n",
        "    \n",
        "    x_train = []\n",
        "    y_train = []\n",
        "    x_test = []\n",
        "    y_test = []\n",
        "    x_val = []\n",
        "    y_val = []\n",
        "    \n",
        "    for  i in (range(len(y_train_id))):\n",
        "      participant_id = y_train_id[i]\n",
        "      y_train.append(labels[l][participant_id])\n",
        "      x_train.append(X_train[i])\n",
        "\n",
        "    for i in range(len(y_val_id)):\n",
        "      try:\n",
        "        participant_id = y_val_id[i]\n",
        "        y_val.append(labels[l][participant_id])\n",
        "        x_val.append(X_val[i])\n",
        "      except:\n",
        "        continue\n",
        "\n",
        "    for i in range(len(y_test_id)):\n",
        "      try:\n",
        "        participant_id = y_test_id[i]\n",
        "        y_test.append(labels[l][participant_id])\n",
        "        x_test.append(X_test[i])\n",
        "      except:\n",
        "        continue\n",
        "  \n",
        "    print(\"length: \", len(x_train)+len(x_test)+len(x_val))\n",
        "    distribution = np.zeros((6,1))\n",
        "    for val in y_train:\n",
        "      distribution[val-1] += 1\n",
        "    distribution /= distribution.sum()\n",
        "    scores = []\n",
        "    n_iter = 50\n",
        "\n",
        "    for x in range(n_iter):\n",
        "      pred_test = []\n",
        "      test_label = np.array(y_test).reshape(-1,1)\n",
        "      for i in range(test_label.shape[0]):\n",
        "        pred_test.append(np.random.choice(np.arange(0, 6), p=list(distribution.reshape(-1,))))\n",
        "\n",
        "      current_rmse = mean_squared_error(test_label, pred_test, squared=False)\n",
        "      current_pcc, p_val = pearsonr(np.array(pred_test, dtype=float).reshape(-1,), np.array(test_label, dtype=float).reshape(-1,))\n",
        "      current_ccc = ccc(np.array(test_label, dtype=float).reshape(-1,), np.array(pred_test, dtype=float).reshape(-1,))\n",
        "      scores.append([abs(current_pcc), abs(current_ccc), current_rmse])\n",
        "    scores = np.array(scores)\n",
        "    fold_score = list(np.mean(scores, axis=0))\n",
        "    # print(fold_score)\n",
        "    overall.append(fold_score)\n",
        "  cv_score = np.mean(np.array(overall), axis=0)\n",
        "  print(painss_col[l], cv_score)\n",
        "    "
      ],
      "execution_count": null,
      "outputs": []
    },
    {
      "cell_type": "code",
      "metadata": {
        "id": "69_MyvPatyQj",
        "colab": {
          "base_uri": "https://localhost:8080/"
        },
        "outputId": "3e748217-41dd-4514-983b-7e4fd3b68ed7"
      },
      "source": [
        "x_train"
      ],
      "execution_count": null,
      "outputs": [
        {
          "output_type": "execute_result",
          "data": {
            "text/plain": [
              "[]"
            ]
          },
          "metadata": {
            "tags": []
          },
          "execution_count": 25
        }
      ]
    },
    {
      "cell_type": "code",
      "metadata": {
        "colab": {
          "base_uri": "https://localhost:8080/"
        },
        "id": "HNNBofXsRWiR",
        "outputId": "24e53186-9981-404c-d9f4-2681e88b2289"
      },
      "source": [
        "from keras.preprocessing import sequence\n",
        "from keras.models import Sequential\n",
        "from keras.layers import Dense, Embedding\n",
        "from keras.layers import LSTM, GRU, Dropout\n",
        "from keras.datasets import imdb\n",
        "import pandas as pd\n",
        "import numpy as np\n",
        "from sklearn.metrics import balanced_accuracy_score\n",
        "from keras.utils import to_categorical\n",
        "from keras.preprocessing.text import Tokenizer\n",
        "from keras.preprocessing.sequence import pad_sequences\n",
        "import tensorflow as tf\n",
        "from numpy import array\n",
        "from numpy import asarray\n",
        "from numpy import zeros\n",
        "from keras.preprocessing.text import Tokenizer\n",
        "from keras.preprocessing.sequence import pad_sequences\n",
        "from keras.models import Sequential\n",
        "from keras.layers import Dense\n",
        "from keras.layers import Flatten\n",
        "from keras.layers import Embedding\n",
        "from keras.layers import Bidirectional\n",
        "from keras.callbacks import Callback\n",
        "from keras.callbacks import EarlyStopping\n",
        "from sklearn.preprocessing import MinMaxScaler\n",
        "from scipy.stats import pearsonr\n",
        "from sklearn.metrics import mean_squared_error, mean_absolute_error\n",
        "from keras.layers.normalization import BatchNormalization\n",
        "from keras import backend as K\n",
        "import tensorflow_probability as tfp\n",
        "\n",
        "def tf_pearson(y_true, y_pred):\n",
        "    # return tf.contrib.metrics.streaming_pearson_correlation(y_pred, y_true)[1]\n",
        "    return abs(tfp.stats.correlation(y_true, y_pred))\n",
        "\n",
        "def tf_pearson_loss(y_true, y_pred):\n",
        "    return 1 - abs(tfp.stats.correlation(y_true, y_pred))\n",
        "\n",
        "early_stopping_monitor = EarlyStopping(\n",
        "      monitor = 'val_loss',\n",
        "      min_delta = 0,\n",
        "      patience = 10,\n",
        "      verbose = 1,\n",
        "      mode = 'auto',\n",
        "      baseline=None,\n",
        "      restore_best_weights=True\n",
        "    )\n",
        "def tf_pearson(y_true, y_pred):\n",
        "    # return tf.contrib.metrics.streaming_pearson_correlation(y_pred, y_true)[1]\n",
        "    return -abs(tfp.stats.correlation(y_true, y_pred))\n",
        "\n",
        "# for l in range(len(painss_col)):\n",
        "for l in [4]:\n",
        "  overall = []\n",
        "  for f in range(nfold):\n",
        "    X_train = fold_info[f][0]\n",
        "    X_test = fold_info[f][1]\n",
        "    y_train_id = fold_info[f][2]\n",
        "    y_test_id = fold_info[f][3]\n",
        "    \n",
        "    n_val = len(X_train) // 4\n",
        "    X_val = X_train[:n_val]\n",
        "    X_train = X_train[n_val:]\n",
        "    y_val_id = y_train_id[:n_val]\n",
        "    y_train_id = y_train_id[n_val:]\n",
        "    \n",
        "    x_train = []\n",
        "    y_train = []\n",
        "    x_test = []\n",
        "    y_test = []\n",
        "    x_val = []\n",
        "    y_val = []\n",
        "    \n",
        "\n",
        "    for  i in (range(len(y_train_id))):\n",
        "      try:\n",
        "        participant_id = y_train_id[i]\n",
        "        y_train.append(labels[l][participant_id])\n",
        "        # y_train.append(labels[0][participant_id]+labels[1][participant_id]+labels[2][participant_id]+labels[3][participant_id])\n",
        "        x_train.append(X_train[i])\n",
        "      except:\n",
        "        continue\n",
        "\n",
        "    for i in range(len(y_val_id)):\n",
        "      try:\n",
        "        participant_id = y_val_id[i]\n",
        "        y_val.append(labels[l][participant_id])\n",
        "        # y_val.append(labels[0][participant_id]+labels[1][participant_id]+labels[2][participant_id]+labels[3][participant_id])\n",
        "        x_val.append(X_val[i])\n",
        "      except:\n",
        "        continue\n",
        "\n",
        "    for i in range(len(y_test_id)):\n",
        "      try:\n",
        "        participant_id = y_test_id[i]\n",
        "        y_test.append(labels[l][participant_id])\n",
        "        # y_test.append(labels[0][participant_id]+labels[1][participant_id]+labels[2][participant_id]+labels[3][participant_id])\n",
        "        x_test.append(X_test[i])\n",
        "      except:\n",
        "        continue\n",
        "\n",
        "    max_features = 20000\n",
        "    # cut texts after this number of words (among top max_features most common words)\n",
        "    maxlen = 50\n",
        "    batch_size = 8\n",
        "    # print(len(x_train), 'train sequences')\n",
        "    # print(len(x_test), 'test sequences')\n",
        "    # print(len(x_val), 'validation sequences')\n",
        "    t = Tokenizer()\n",
        "    t.fit_on_texts(x_train)\n",
        "    vocab_size = len(t.word_index) + 1\n",
        "    sequences_train = t.texts_to_sequences(x_train)\n",
        "    sequences_test = t.texts_to_sequences(x_test)\n",
        "    sequences_val = t.texts_to_sequences(x_val)\n",
        "\n",
        "    datatrain = pad_sequences(sequences_train, maxlen=maxlen*6)[:,::6]\n",
        "    datatest = pad_sequences(sequences_test, maxlen=maxlen*6)[:,::6]\n",
        "    dataval = pad_sequences(sequences_val, maxlen=maxlen*6)[:,::6]\n",
        "\n",
        "    word2ind_data = pd.read_csv(\"/content/drive/MyDrive/word2ind_1000.csv\", header=None).values\n",
        "    ind2word = {}\n",
        "    for i in range(word2ind_data.shape[0]):\n",
        "      current_row = word2ind_data[i]\n",
        "      ind2word[current_row[1]] = current_row[0]\n",
        "\n",
        "    embeddings_index = dict()\n",
        "    data_embed = pd.read_csv(\"/content/drive/MyDrive/glove_embeddings_25_1000cluster.csv\", header=None).values\n",
        "    for i in range(data_embed.shape[0]):\n",
        "        word = ind2word[i]\n",
        "        coefs = data_embed[i]\n",
        "        embeddings_index[word] = coefs\n",
        "    emb_size = data_embed.shape[1]\n",
        "\n",
        "    # print('Loaded %s word vectors.' % len(embeddings_index))\n",
        "    # create a weight matrix for words in training docs\n",
        "    embedding_matrix = zeros((vocab_size, emb_size))\n",
        "    for word, i in t.word_index.items():\n",
        "      embedding_vector = embeddings_index.get(word)\n",
        "      if embedding_vector is not None:\n",
        "        embedding_matrix[i] = embedding_vector  \n",
        "\n",
        "    scaler = MinMaxScaler((-1,1))\n",
        "    scaler.fit(np.array(y_train).reshape(-1,1))\n",
        "    y_train = scaler.transform(np.array(y_train).reshape(-1,1))\n",
        "    y_val = scaler.transform(np.array(y_val).reshape(-1,1))\n",
        "    y_test_normed = scaler.transform(np.array(y_test).reshape(-1,1))\n",
        "\n",
        "    model = Sequential()\n",
        "    model.add(Embedding(vocab_size, 25, input_length=maxlen, embeddings_regularizer=\"l1_l2\"))\n",
        "    # model.add(Embedding(vocab_size, emb_size, weights=[embedding_matrix], input_length=maxlen, trainable=True))\n",
        "    model.add(Bidirectional(LSTM(32, dropout=0.4)))\n",
        "    # model.add(BatchNormalization())\n",
        "    model.add(Dense(64, activation='relu'))\n",
        "    model.add(Dropout(0.2))\n",
        "    # model.add(BatchNormalization())\n",
        "    model.add(Dense(1))\n",
        "\n",
        "    model.compile(loss='mse', optimizer='adam')\n",
        "    model.fit(datatrain, y_train, batch_size=batch_size, validation_data=(dataval, y_val), epochs=10, verbose=0, callbacks=[early_stopping_monitor])\n",
        "\n",
        "    y_test_pred = model(datatest).numpy()\n",
        "    y_test = np.array(y_test)\n",
        "    pcc, pv = pearsonr(y_test_pred.reshape(-1,), np.array(y_test).reshape(-1,))\n",
        "   \n",
        "    mae = mean_absolute_error(y_test.reshape(-1,), scaler.inverse_transform(y_test_pred).reshape(-1,))\n",
        "    mse = mean_squared_error(y_test.reshape(-1,), scaler.inverse_transform(y_test_pred).reshape(-1,), squared=False)\n",
        "    concordance = ccc(np.array(y_test).reshape(-1,), y_test_pred.reshape(-1,))\n",
        "    # print('Fold', f, pcc, mae, mse, concordance)\n",
        "    overall.append([abs(pcc), mae, mse])\n",
        "  print(painss_col[l], np.mean(np.array(overall), axis=0))\n",
        "  # print(\"sum cains: \", np.mean(np.array(overall), axis=0))\n",
        "  # break\n",
        "#persecution: 0.45\n",
        "#delusions: 0.48\n",
        "#hallucinations: 0.60\n",
        "#flow: 0.50\n",
        "#disorg: 0.45"
      ],
      "execution_count": null,
      "outputs": [
        {
          "output_type": "stream",
          "text": [
            "13. Conceptual Disorganization [0.1157592  1.29483543 1.53337085]\n"
          ],
          "name": "stdout"
        }
      ]
    },
    {
      "cell_type": "code",
      "metadata": {
        "id": "gFkN4dDqWYQ6",
        "colab": {
          "base_uri": "https://localhost:8080/"
        },
        "outputId": "9d669f55-07b8-49d0-f41a-6c3e0bb54333"
      },
      "source": [
        "import tqdm\n",
        "import os\n",
        "import pandas as pd\n",
        "\n",
        "filepath = \"/content/drive/MyDrive/schz_segment/\"\n",
        "data_dict = {}\n",
        "for f in tqdm.tqdm(os.listdir(filepath)):\n",
        "  filedir = os.path.join(filepath, f)\n",
        "  of_data = pd.read_csv(filedir).values[::5]\n",
        "  keep_row = of_data[:,3] > 0\n",
        "  au_data = of_data[keep_row,396:413]\n",
        "  data_dict[f] = au_data"
      ],
      "execution_count": null,
      "outputs": [
        {
          "output_type": "stream",
          "text": [
            " 74%|███████▍  | 1847/2494 [19:29<06:22,  1.69it/s]/usr/local/lib/python3.7/dist-packages/IPython/core/interactiveshell.py:2718: DtypeWarning: Columns (10,11,12,13,14,15,16,17,18,19,20,21,22,23,24,25,26,27,28,29,30,31,32,33,34,35,36,37,38,39,40,41,42,43,44,45,46,47,48,49,50,51,52,53,54,55,56,57,58,59,60,61,62,63,64,65,66,67,68,69,70,71,72,73,74,75,76,77,78,79,80,81,82,83,84,85,86,87,88,89,90,91,92,93,94,95,96,97,98,99,100,101,102,103,104,105,106,107,108,109,110,111,112,113,114,115,116,117,118,119,120,121,122,123,124,125,126,127,128,129,130,131,132,133,134,135,136,137,138,139,140,141,142,143,144,145,146,147,148,149,150,151,152,153,154,155,156,157,158,159,160,161,162,163,164,165,166,167,168,169,170,171,172,173,174,175,176,177,178,179,180,181,182,183,184,185,186,187,188,189,190,191,192,193,194,195,196,197,198,199,200,201,202,203,204,205,206,207,208,209,210,211,212,213,214,215,216,217,218,219,220,221,222,223,224,225,226,227,228,229,230,231,232,233,234,235,236,237,238,239,240,241,242,243,244,245,246,247,248,249,250,251,252,253,254,255,256,257,258,259,260,261,262,263,264,265,266,267,268,269,270,271,272,273,274,275,276,277,278,279,280,281,282,283,284,285,286,287,288,289,290,291,292,293,294,295,296,297,298,299,300,301,302,303,304,305,306,307,308,309,310,311,312,313,314,315,316,317,318,319,320,321,322,323,324,325,326,327,328,329,330,331,332,333,334,335,336,337,338,339,340,341,342,343,344,345,346,347,348,349,350,351,352,353,354,355,356,360,361,362,363,364,365,366,367,368,369,370,371,372,373,374,375,376,377,378,379,380,381,382,383,384,385,386,387,388,389,390,391,392,393,394,395) have mixed types.Specify dtype option on import or set low_memory=False.\n",
            "  interactivity=interactivity, compiler=compiler, result=result)\n",
            "100%|██████████| 2494/2494 [26:36<00:00,  1.56it/s]\n"
          ],
          "name": "stderr"
        }
      ]
    },
    {
      "cell_type": "code",
      "metadata": {
        "id": "rREtYeVhXX3O",
        "colab": {
          "base_uri": "https://localhost:8080/"
        },
        "outputId": "6da26191-a67b-4f7d-e4ed-23febc8a026b"
      },
      "source": [
        "from keras.preprocessing import sequence\n",
        "from keras.models import Sequential\n",
        "from keras.layers import Dense, Embedding\n",
        "from keras.layers import LSTM, GRU, Dropout\n",
        "from keras.datasets import imdb\n",
        "import pandas as pd\n",
        "import numpy as np\n",
        "from sklearn.metrics import balanced_accuracy_score\n",
        "from keras.utils import to_categorical\n",
        "from keras.preprocessing.text import Tokenizer\n",
        "from keras.preprocessing.sequence import pad_sequences\n",
        "import tensorflow as tf\n",
        "from numpy import array\n",
        "from numpy import asarray\n",
        "from numpy import zeros\n",
        "from keras.preprocessing.text import Tokenizer\n",
        "from keras.preprocessing.sequence import pad_sequences\n",
        "from keras.models import Sequential\n",
        "from keras.layers import Dense\n",
        "from keras.layers import Flatten\n",
        "from keras.layers import Embedding\n",
        "from keras.layers import Bidirectional\n",
        "from keras.callbacks import Callback\n",
        "from keras.callbacks import EarlyStopping\n",
        "from sklearn.preprocessing import MinMaxScaler\n",
        "from scipy.stats import pearsonr\n",
        "from sklearn.metrics import mean_squared_error, mean_absolute_error\n",
        "from keras.layers.normalization import BatchNormalization\n",
        "from keras import backend as K\n",
        "import tensorflow_probability as tfp\n",
        "\n",
        "early_stopping_monitor = EarlyStopping(\n",
        "      monitor = 'val_loss',\n",
        "      min_delta = 0,\n",
        "      patience = 10,\n",
        "      verbose = 1,\n",
        "      mode = 'auto',\n",
        "      baseline=None,\n",
        "      restore_best_weights=True\n",
        "    )\n",
        "\n",
        "for l in range(len(painss_col)):\n",
        "  overall = []\n",
        "  for f in range(nfold):\n",
        "    X_train = fold_info[f][0]\n",
        "    X_test = fold_info[f][1]\n",
        "    y_train_id = fold_info[f][2]\n",
        "    y_test_id = fold_info[f][3]\n",
        "    y_train_file, y_test_file = fold_file[f]\n",
        "\n",
        "    n_val = len(X_train) // 4\n",
        "    X_val = X_train[:n_val]\n",
        "    X_train = X_train[n_val:]\n",
        "    y_val_id = y_train_id[:n_val]\n",
        "    y_train_id = y_train_id[n_val:]\n",
        "    y_val_file = y_train_file[:n_val]\n",
        "    y_train_file = y_train_file[n_val:]\n",
        "    \n",
        "    x_train = []\n",
        "    y_train = []\n",
        "    x_test = []\n",
        "    y_test = []\n",
        "    x_val = []\n",
        "    y_val = []\n",
        "    \n",
        "\n",
        "    for  i in range(len(y_train_id)):\n",
        "      try:\n",
        "        participant_id = y_train_id[i]\n",
        "        y_train.append(labels[l][participant_id])\n",
        "        # y_train.append(labels[0][participant_id]+labels[1][participant_id]+labels[2][participant_id]+labels[3][participant_id])\n",
        "        x_train.append(data_dict[y_train_file[i]])\n",
        "      except:\n",
        "        continue\n",
        "\n",
        "    for i in range(len(y_val_id)):\n",
        "      try:\n",
        "        participant_id = y_val_id[i]\n",
        "        y_val.append(labels[l][participant_id])\n",
        "        # y_val.append(labels[0][participant_id]+labels[1][participant_id]+labels[2][participant_id]+labels[3][participant_id])\n",
        "        x_val.append(data_dict[y_val_file[i]])\n",
        "      except:\n",
        "        continue\n",
        "\n",
        "    for i in range(len(y_test_id)):\n",
        "      try:\n",
        "        participant_id = y_test_id[i]\n",
        "        y_test.append(labels[l][participant_id])\n",
        "        # y_test.append(labels[0][participant_id]+labels[1][participant_id]+labels[2][participant_id]+labels[3][participant_id])\n",
        "        x_test.append(data_dict[y_test_file[i]])\n",
        "      except:\n",
        "        continue\n",
        "\n",
        "    max_features = 20000\n",
        "    maxlen = 50\n",
        "    batch_size = 8\n",
        "\n",
        "    datatrain = pad_sequences(x_train, maxlen=maxlen*6)[:,::6]\n",
        "    datatest = pad_sequences(x_test, maxlen=maxlen*6)[:,::6]\n",
        "    dataval = pad_sequences(x_val, maxlen=maxlen*6)[:,::6]  \n",
        "\n",
        "    scaler_y = MinMaxScaler((-1,1))\n",
        "    scaler_y.fit(np.array(y_train).reshape(-1,1))\n",
        "    y_train = scaler_y.transform(np.array(y_train).reshape(-1,1))\n",
        "    y_val = scaler_y.transform(np.array(y_val).reshape(-1,1))\n",
        "    y_test_normed = scaler_y.transform(np.array(y_test).reshape(-1,1))\n",
        "\n",
        "    from sklearn.preprocessing import MinMaxScaler, StandardScaler\n",
        "\n",
        "    scaler = StandardScaler()\n",
        "    num_instances, num_time_steps, num_features = datatrain.shape\n",
        "    datatrain = np.reshape(datatrain, (-1, num_features))\n",
        "    datatrain = scaler.fit_transform(datatrain)\n",
        "    datatrain = np.reshape(datatrain, (num_instances, num_time_steps, num_features))\n",
        "\n",
        "    num_instances, num_time_steps, num_features = datatest.shape\n",
        "    datatest = np.reshape(datatest, (-1, num_features))\n",
        "    datatest = scaler.transform(datatest)\n",
        "    datatest = np.reshape(datatest, (num_instances, num_time_steps, num_features))\n",
        "\n",
        "    num_instances, num_time_steps, num_features = dataval.shape\n",
        "    dataval = np.reshape(dataval, (-1, num_features))\n",
        "    dataval = scaler.transform(dataval)\n",
        "    dataval = np.reshape(dataval, (num_instances, num_time_steps, num_features))\n",
        "\n",
        "    y_train = np.array(y_train).reshape(-1,1)\n",
        "    y_test = np.array(y_test).reshape(-1,1)\n",
        "    y_val = np.array(y_val).reshape(-1,1)\n",
        "    model = Sequential()\n",
        "    model.add(Bidirectional(LSTM(32, dropout=0.4, input_shape=(num_time_steps, num_features))))\n",
        "    # model.add(BatchNormalization())\n",
        "    model.add(Dense(64, activation='relu'))\n",
        "    model.add(Dropout(0.2))\n",
        "    # model.add(BatchNormalization())\n",
        "    model.add(Dense(1))\n",
        "    \n",
        "    model.compile(loss='mse', optimizer='adam')\n",
        "    model.fit(datatrain, y_train, batch_size=batch_size, validation_data=(dataval, y_val), epochs=10, verbose=0, callbacks=[early_stopping_monitor])\n",
        "\n",
        "    y_test_pred = model(datatest).numpy()\n",
        "    # y_test_pred = model.predict(datatest)\n",
        "    y_test = np.array(y_test)\n",
        "    # print(y_test_pred, y_test)\n",
        "    pcc, pv = pearsonr(y_test_pred.reshape(-1,), y_test.reshape(-1,))\n",
        "    concordance_corr = ccc(y_test.reshape(-1,), y_test_pred.reshape(-1,))\n",
        "    mae = mean_absolute_error(y_test.reshape(-1,), scaler_y.inverse_transform(y_test_pred).reshape(-1,))\n",
        "    mse = mean_squared_error(y_test.reshape(-1,), scaler_y.inverse_transform(y_test_pred).reshape(-1,), squared=False)\n",
        "    # print('Fold', f, abs(pcc), mae, mse, abs(concordance_corr))\n",
        "    overall.append([abs(pcc), mae, mse, abs(concordance_corr)])\n",
        "  print(painss_col[l], np.nanmean(np.array(overall), axis=0))\n",
        "  # print(\"Sum cains: \", np.nanmean(np.array(overall), axis=0))\n",
        "  # break\n",
        "  \n",
        "#todo: subject independent, concordance metric"
      ],
      "execution_count": null,
      "outputs": [
        {
          "output_type": "stream",
          "text": [
            "1. Unusual Thought Content [0.33076906 0.63359897 0.79219795 0.02654813]\n",
            "2. Delusions [0.43072712 1.03439888 1.28578713 0.0503138 ]\n",
            "3. Grandiosity [0.35963443 0.70083289 0.96268774 0.026921  ]\n",
            "4. Suspiciousness/Persecution [0.41082746 0.90161115 1.15874905 0.03955623]\n",
            "5. Hallucinatory Behavior [0.52494664 1.06100309 1.28562489 0.07662693]\n",
            "8. Lack of Spontaneity/Flow of Conversation [0.47129895 0.93537019 1.21117667 0.06325442]\n",
            "13. Conceptual Disorganization [0.39348966 1.19321887 1.47291433 0.04099083]\n",
            "14. Incoherent Speech [0.36467364 0.39037942 0.61384407 0.04123306]\n",
            "15. Poverty of Speech Content [0.48071664 0.69722194 1.01982627 0.06465736]\n",
            "27. Stereotyped Thinking [0.58550321 0.47151305 0.66216806 0.07196325]\n"
          ],
          "name": "stdout"
        }
      ]
    },
    {
      "cell_type": "code",
      "metadata": {
        "id": "T4trIi1Rokcr"
      },
      "source": [
        "data_dict"
      ],
      "execution_count": null,
      "outputs": []
    },
    {
      "cell_type": "code",
      "metadata": {
        "id": "mxV83Uu1iZM4"
      },
      "source": [
        "1. Unusual Thought Content [0.37641689 0.62583188 0.78146806]\n",
        "2. Delusions [0.45598167 1.01667796 1.26429792]\n",
        "3. Grandiosity [0.42287821 0.69225508 0.92630035]\n",
        "4. Suspiciousness/Persecution [0.41403915 0.92549729 1.16376807]\n",
        "5. Hallucinatory Behavior [0.51576388 1.0850613  1.32093953]\n",
        "8. Lack of Spontaneity/Flow of Conversation [0.52956511 0.91626444 1.16354095]\n",
        "13. Conceptual Disorganization [0.37427621 1.17155935 1.44654859]\n",
        "14. Incoherent Speech [0.404256   0.39820497 0.59459416]\n",
        "15. Poverty of Speech Content [0.47557492 0.76629316 1.05509985]\n",
        "27. Stereotyped Thinking [0.58982405 0.46023293 0.64768111]"
      ],
      "execution_count": null,
      "outputs": []
    },
    {
      "cell_type": "code",
      "metadata": {
        "id": "eAOgaXflX_MS"
      },
      "source": [
        "from keras.preprocessing import sequence\n",
        "from keras.models import Sequential\n",
        "from keras.layers import Dense, Embedding\n",
        "from keras.layers import LSTM, GRU, Dropout\n",
        "from keras.datasets import imdb\n",
        "import pandas as pd\n",
        "import numpy as np\n",
        "from sklearn.metrics import balanced_accuracy_score\n",
        "from keras.utils import to_categorical\n",
        "from keras.preprocessing.text import Tokenizer\n",
        "from keras.preprocessing.sequence import pad_sequences\n",
        "import tensorflow as tf\n",
        "from numpy import array\n",
        "from numpy import asarray\n",
        "from numpy import zeros\n",
        "from keras.preprocessing.text import Tokenizer\n",
        "from keras.preprocessing.sequence import pad_sequences\n",
        "from keras.models import Sequential\n",
        "from keras.layers import Dense\n",
        "from keras.layers import Flatten\n",
        "from keras.layers import Embedding\n",
        "from keras.layers import Bidirectional\n",
        "from keras.callbacks import Callback\n",
        "from keras.callbacks import EarlyStopping\n",
        "from sklearn.preprocessing import MinMaxScaler\n",
        "from scipy.stats import pearsonr\n",
        "from sklearn.metrics import mean_squared_error, mean_absolute_error\n",
        "from keras.layers.normalization import BatchNormalization\n",
        "from keras import backend as K\n",
        "import tensorflow_probability as tfp\n",
        "\n",
        "def tf_pearson(y_true, y_pred):\n",
        "    # return tf.contrib.metrics.streaming_pearson_correlation(y_pred, y_true)[1]\n",
        "    return abs(tfp.stats.correlation(y_true, y_pred))\n",
        "\n",
        "def tf_pearson_loss(y_true, y_pred):\n",
        "    return 1 - abs(tfp.stats.correlation(y_true, y_pred))\n",
        "\n",
        "early_stopping_monitor = EarlyStopping(\n",
        "      monitor = 'val_loss',\n",
        "      min_delta = 0,\n",
        "      patience = 10,\n",
        "      verbose = 1,\n",
        "      mode = 'auto',\n",
        "      baseline=None,\n",
        "      restore_best_weights=True\n",
        "    )\n",
        "def tf_pearson(y_true, y_pred):\n",
        "    # return tf.contrib.metrics.streaming_pearson_correlation(y_pred, y_true)[1]\n",
        "    return -abs(tfp.stats.correlation(y_true, y_pred))\n",
        "std_stream_output = []\n",
        "for l in range(len(painss_col)):\n",
        "  overall = []\n",
        "  for f in range(nfold):\n",
        "    X_train = fold_info[f][0]\n",
        "    X_test = fold_info[f][1]\n",
        "    y_train_id = fold_info[f][2]\n",
        "    y_test_id = fold_info[f][3]\n",
        "    y_train_file, y_test_file = fold_file[f]\n",
        "\n",
        "    n_val = len(X_train) // 4\n",
        "    X_val = X_train[:n_val]\n",
        "    X_train = X_train[n_val:]\n",
        "    y_val_id = y_train_id[:n_val]\n",
        "    y_train_id = y_train_id[n_val:]\n",
        "    y_val_file = y_train_file[:n_val]\n",
        "    y_train_file = y_train_file[n_val:]\n",
        "    \n",
        "    x_train = []\n",
        "    y_train = []\n",
        "    x_test = []\n",
        "    y_test = []\n",
        "    x_val = []\n",
        "    y_val = []\n",
        "    \n",
        "\n",
        "    for  i in range(len(y_train_id)):\n",
        "      try:\n",
        "        participant_id = y_train_id[i]\n",
        "        y_train.append(labels[l][participant_id])\n",
        "        # y_train.append(labels[0][participant_id]+labels[1][participant_id]+labels[2][participant_id]+labels[3][participant_id])\n",
        "        x_train.append(data_dict[y_train_file[i]])\n",
        "      except:\n",
        "        continue\n",
        "\n",
        "    for i in range(len(y_val_id)):\n",
        "      try:\n",
        "        participant_id = y_val_id[i]\n",
        "        y_val.append(labels[l][participant_id])\n",
        "        # y_val.append(labels[0][participant_id]+labels[1][participant_id]+labels[2][participant_id]+labels[3][participant_id])\n",
        "        x_val.append(data_dict[y_val_file[i]])\n",
        "      except:\n",
        "        continue\n",
        "\n",
        "    for i in range(len(y_test_id)):\n",
        "      try:\n",
        "        participant_id = y_test_id[i]\n",
        "        y_test.append(labels[l][participant_id])\n",
        "        # y_test.append(labels[0][participant_id]+labels[1][participant_id]+labels[2][participant_id]+labels[3][participant_id])\n",
        "        x_test.append(data_dict[y_test_file[i]])\n",
        "      except:\n",
        "        continue\n",
        "\n",
        "    max_features = 20000\n",
        "    # cut texts after this number of words (among top max_features most common words)\n",
        "    maxlen = 50\n",
        "    batch_size = 8\n",
        "\n",
        "    train = []\n",
        "    val = []\n",
        "    test = []\n",
        "\n",
        "    for mdata in x_train:\n",
        "      mdata = np.array(mdata, dtype=float)\n",
        "      train.append(np.concatenate((np.mean(mdata, axis=0), np.std(mdata, axis=0), np.mean(np.diff(mdata, axis=0), axis=0)), axis = 0))\n",
        "\n",
        "    for mdata in x_val:\n",
        "      mdata = np.array(mdata, dtype=float)\n",
        "      val.append(np.concatenate((np.mean(mdata, axis=0), np.std(mdata, axis=0), np.mean(np.diff(mdata, axis=0), axis=0)), axis = 0))\n",
        "\n",
        "    for mdata in x_test:\n",
        "      mdata = np.array(mdata, dtype=float)\n",
        "      test.append(np.concatenate((np.mean(mdata, axis=0), np.std(mdata, axis=0), np.mean(np.diff(mdata, axis=0), axis=0)), axis = 0))\n",
        "       \n",
        "    train = np.array(train)\n",
        "    test = np.array(test)\n",
        "    val = np.array(val)\n",
        "\n",
        "    scaler_y = MinMaxScaler((-1,1))\n",
        "    scaler_y.fit(np.array(y_train).reshape(-1,1))\n",
        "    y_train = scaler_y.transform(np.array(y_train).reshape(-1,1))\n",
        "    y_val = scaler_y.transform(np.array(y_val).reshape(-1,1))\n",
        "    y_test_normed = scaler_y.transform(np.array(y_test).reshape(-1,1))\n",
        "    \n",
        "    from sklearn.svm import SVC\n",
        "    from sklearn.linear_model import LogisticRegression, LinearRegression\n",
        "    from sklearn.metrics import balanced_accuracy_score\n",
        "    from collections import Counter\n",
        "    from sklearn.impute import SimpleImputer\n",
        "    import warnings\n",
        "    from sklearn.utils.testing import ignore_warnings\n",
        "    from sklearn.exceptions import ConvergenceWarning\n",
        "    ignore_warnings(category=ConvergenceWarning)\n",
        "\n",
        "    imp = SimpleImputer(missing_values=np.nan, strategy='mean')\n",
        "    imp = imp.fit(train)\n",
        "    train = imp.transform(train)\n",
        "    val = imp.transform(val)\n",
        "    test = imp.transform(test)\n",
        "\n",
        "    # class_weight = {1:1, 0:1.5*class_cnt[1]/class_cnt[0]}\n",
        "    kernels = [\"rbf\"]\n",
        "    Cs = [0.1, 1, 10, 100, 1000]\n",
        "    bestC = 0\n",
        "    best_kernels = \"rbf\"\n",
        "    best_val_mse = 100000\n",
        "    # for kernel in kernels:\n",
        "    # for C in Cs:\n",
        "    #   # clf = SVC(C=C, kernel=kernel).fit(train, y_train)\n",
        "    #   clf = LogisticRegression(C=C, max_iter=1000).fit(train, y_train)\n",
        "    #   y_val_pred = clf.predict(val)\n",
        "    #   current_mse = mean_squared_error(y_val, y_val_pred)\n",
        "    #   if(current_mse < best_val_mse):\n",
        "    #     bestC = C\n",
        "    #     # best_kernels = kernel\n",
        "    best_clf = LinearRegression().fit(train,y_train)\n",
        "\n",
        "    y_test_pred = best_clf.predict(test)\n",
        "    y_test = np.array(y_test)\n",
        "\n",
        "    pcc, pv = pearsonr(y_test_pred.reshape(-1,), y_test.reshape(-1,))\n",
        "    mae = mean_absolute_error(y_test.reshape(-1,), scaler_y.inverse_transform(y_test_pred).reshape(-1,))\n",
        "    mse = mean_squared_error(y_test.reshape(-1,), scaler_y.inverse_transform(y_test_pred).reshape(-1,), squared=False)\n",
        "\n",
        "    # print('Fold', f, pcc, mae, mse)\n",
        "    overall.append([abs(pcc), mae, mse])\n",
        "  print(painss_col[l], np.mean(np.array(overall), axis=0))\n",
        "  # print(\"Sum cains: \", np.mean(np.array(overall), axis=0))\n",
        "  # break\n",
        "  std_stream_output.append([painss_col[l], np.mean(np.array(overall), axis=0)])\n",
        "print(std_stream_output)\n"
      ],
      "execution_count": null,
      "outputs": []
    },
    {
      "cell_type": "code",
      "metadata": {
        "colab": {
          "base_uri": "https://localhost:8080/"
        },
        "id": "R2WDpv216hjl",
        "outputId": "718bf280-a1bb-4b43-e4e5-672befcdf992"
      },
      "source": [
        "for row in std_stream_output:\n",
        "  print(row[0], row[1])"
      ],
      "execution_count": null,
      "outputs": [
        {
          "output_type": "stream",
          "text": [
            "1. Unusual Thought Content [0.39011831 0.77248268 1.55887308]\n",
            "2. Delusions [0.41539365 1.16491927 1.93902749]\n",
            "3. Grandiosity [0.40741091 0.96527166 2.21417   ]\n",
            "4. Suspiciousness/Persecution [0.30543922 1.2172843  2.3903584 ]\n",
            "5. Hallucinatory Behavior [0.36718655 1.45769048 3.15796052]\n",
            "8. Lack of Spontaneity/Flow of Conversation [0.36320329 1.30457911 2.9050492 ]\n",
            "13. Conceptual Disorganization [0.39765452 1.57559015 3.92849478]\n",
            "14. Incoherent Speech [0.34524138 0.70040527 1.94911008]\n",
            "15. Poverty of Speech Content [0.38227485 0.94200389 1.64134452]\n",
            "27. Stereotyped Thinking [0.45035865 0.73325363 1.82261815]\n"
          ],
          "name": "stdout"
        }
      ]
    },
    {
      "cell_type": "code",
      "metadata": {
        "colab": {
          "base_uri": "https://localhost:8080/",
          "height": 1000
        },
        "id": "KIg3JRCz8lPd",
        "outputId": "4cf02935-befb-4121-fade-809d057b6dde"
      },
      "source": [
        "import matplotlib.pyplot as plt\n",
        "\n",
        "for i in range(10):\n",
        "  current_label_dict = labels[i]\n",
        "  scores = []\n",
        "  for key in current_label_dict.keys():\n",
        "    scores.append(current_label_dict[key])\n",
        "  scores = np.array(scores)\n",
        "  plt.hist(scores)\n",
        "  plt.title(painss_col[i])\n",
        "  plt.show()\n",
        "  print(np.mean(scores), np.std(scores))"
      ],
      "execution_count": null,
      "outputs": [
        {
          "output_type": "display_data",
          "data": {
            "image/png": "[encoded data removed]",
            "text/plain": [
              "<Figure size 432x288 with 1 Axes>"
            ]
          },
          "metadata": {
            "tags": [],
            "needs_background": "light"
          }
        },
        {
          "output_type": "stream",
          "text": [
            "1.5818181818181818 0.8461873656887341\n"
          ],
          "name": "stdout"
        },
        {
          "output_type": "display_data",
          "data": {
            "image/png": "[encoded data removed]",
            "text/plain": [
              "<Figure size 432x288 with 1 Axes>"
            ]
          },
          "metadata": {
            "tags": [],
            "needs_background": "light"
          }
        },
        {
          "output_type": "stream",
          "text": [
            "2.109090909090909 1.3303824094492156\n"
          ],
          "name": "stdout"
        },
        {
          "output_type": "display_data",
          "data": {
            "image/png": "[encoded data removed]",
            "text/plain": [
              "<Figure size 432x288 with 1 Axes>"
            ]
          },
          "metadata": {
            "tags": [],
            "needs_background": "light"
          }
        },
        {
          "output_type": "stream",
          "text": [
            "1.4 0.8224133002108103\n"
          ],
          "name": "stdout"
        },
        {
          "output_type": "display_data",
          "data": {
            "image/png": "[encoded data removed]",
            "text/plain": [
              "<Figure size 432x288 with 1 Axes>"
            ]
          },
          "metadata": {
            "tags": [],
            "needs_background": "light"
          }
        },
        {
          "output_type": "stream",
          "text": [
            "2.090909090909091 1.1797184143642425\n"
          ],
          "name": "stdout"
        },
        {
          "output_type": "display_data",
          "data": {
            "image/png": "[encoded data removed]",
            "text/plain": [
              "<Figure size 432x288 with 1 Axes>"
            ]
          },
          "metadata": {
            "tags": [],
            "needs_background": "light"
          }
        },
        {
          "output_type": "stream",
          "text": [
            "2.2181818181818183 1.371010365200644\n"
          ],
          "name": "stdout"
        },
        {
          "output_type": "display_data",
          "data": {
            "image/png": "[encoded data removed]",
            "text/plain": [
              "<Figure size 432x288 with 1 Axes>"
            ]
          },
          "metadata": {
            "tags": [],
            "needs_background": "light"
          }
        },
        {
          "output_type": "stream",
          "text": [
            "1.9272727272727272 1.2628185712134792\n"
          ],
          "name": "stdout"
        },
        {
          "output_type": "display_data",
          "data": {
            "image/png": "[encoded data removed]",
            "text/plain": [
              "<Figure size 432x288 with 1 Axes>"
            ]
          },
          "metadata": {
            "tags": [],
            "needs_background": "light"
          }
        },
        {
          "output_type": "stream",
          "text": [
            "1.8 1.2848770722948912\n"
          ],
          "name": "stdout"
        },
        {
          "output_type": "display_data",
          "data": {
            "image/png": "[encoded data removed]",
            "text/plain": [
              "<Figure size 432x288 with 1 Axes>"
            ]
          },
          "metadata": {
            "tags": [],
            "needs_background": "light"
          }
        },
        {
          "output_type": "stream",
          "text": [
            "1.2181818181818183 0.5621681757723748\n"
          ],
          "name": "stdout"
        },
        {
          "output_type": "display_data",
          "data": {
            "image/png": "[encoded data removed]",
            "text/plain": [
              "<Figure size 432x288 with 1 Axes>"
            ]
          },
          "metadata": {
            "tags": [],
            "needs_background": "light"
          }
        },
        {
          "output_type": "stream",
          "text": [
            "1.4363636363636363 1.040343236430543\n"
          ],
          "name": "stdout"
        },
        {
          "output_type": "display_data",
          "data": {
            "image/png": "[encoded data removed]",
            "text/plain": [
              "<Figure size 432x288 with 1 Axes>"
            ]
          },
          "metadata": {
            "tags": [],
            "needs_background": "light"
          }
        },
        {
          "output_type": "stream",
          "text": [
            "1.309090909090909 0.6841777353537011\n"
          ],
          "name": "stdout"
        }
      ]
    },
    {
      "cell_type": "code",
      "metadata": {
        "colab": {
          "base_uri": "https://localhost:8080/"
        },
        "id": "EJWQC81t8-j3",
        "outputId": "d22c9f32-0205-400e-f1c6-9dce3bed640c"
      },
      "source": [
        "len(labels)"
      ],
      "execution_count": null,
      "outputs": [
        {
          "output_type": "execute_result",
          "data": {
            "text/plain": [
              "10"
            ]
          },
          "metadata": {
            "tags": []
          },
          "execution_count": 57
        }
      ]
    },
    {
      "cell_type": "code",
      "metadata": {
        "id": "hasqHDRqfz4Y"
      },
      "source": [
        "feature_path = \"/content/drive/MyDrive/baseline_schizophrenia_features.csv\"\n",
        "data = pd.read_csv(feature_path, header=None).values\n",
        "data_feature_dict = {}\n",
        "for i in range(data.shape[0]):\n",
        "  data_feature_dict[data[i][0]] = data[i][1:]"
      ],
      "execution_count": null,
      "outputs": []
    },
    {
      "cell_type": "code",
      "metadata": {
        "id": "JYdOO-bNTfcx",
        "colab": {
          "base_uri": "https://localhost:8080/"
        },
        "outputId": "33381f89-d274-451b-f2fc-85910420c9a0"
      },
      "source": [
        "from keras.preprocessing import sequence\n",
        "from keras.models import Sequential\n",
        "from keras.layers import Dense, Embedding\n",
        "from keras.layers import LSTM, GRU, Dropout\n",
        "from keras.datasets import imdb\n",
        "import pandas as pd\n",
        "import numpy as np\n",
        "from sklearn.metrics import balanced_accuracy_score\n",
        "from keras.utils import to_categorical\n",
        "from keras.preprocessing.text import Tokenizer\n",
        "from keras.preprocessing.sequence import pad_sequences\n",
        "import tensorflow as tf\n",
        "from numpy import array\n",
        "from numpy import asarray\n",
        "from numpy import zeros\n",
        "from keras.preprocessing.text import Tokenizer\n",
        "from keras.preprocessing.sequence import pad_sequences\n",
        "from keras.models import Sequential\n",
        "from keras.layers import Dense\n",
        "from keras.layers import Flatten\n",
        "from keras.layers import Embedding\n",
        "from keras.layers import Bidirectional\n",
        "from keras.callbacks import Callback\n",
        "from keras.callbacks import EarlyStopping\n",
        "from sklearn.preprocessing import MinMaxScaler\n",
        "from scipy.stats import pearsonr\n",
        "from sklearn.metrics import mean_squared_error, mean_absolute_error\n",
        "from keras.layers.normalization import BatchNormalization\n",
        "from keras import backend as K\n",
        "import tensorflow_probability as tfp\n",
        "from sklearn.svm import SVR\n",
        "\n",
        "def tf_pearson(y_true, y_pred):\n",
        "    # return tf.contrib.metrics.streaming_pearson_correlation(y_pred, y_true)[1]\n",
        "    return abs(tfp.stats.correlation(y_true, y_pred))\n",
        "\n",
        "def tf_pearson_loss(y_true, y_pred):\n",
        "    return 1 - abs(tfp.stats.correlation(y_true, y_pred))\n",
        "\n",
        "early_stopping_monitor = EarlyStopping(\n",
        "      monitor = 'val_loss',\n",
        "      min_delta = 0,\n",
        "      patience = 10,\n",
        "      verbose = 1,\n",
        "      mode = 'auto',\n",
        "      baseline=None,\n",
        "      restore_best_weights=True\n",
        "    )\n",
        "def tf_pearson(y_true, y_pred):\n",
        "    # return tf.contrib.metrics.streaming_pearson_correlation(y_pred, y_true)[1]\n",
        "    return -abs(tfp.stats.correlation(y_true, y_pred))\n",
        "std_stream_output = []\n",
        "for l in range(len(painss_col)):\n",
        "  overall = []\n",
        "  for f in range(nfold):\n",
        "    X_train = fold_info[f][0]\n",
        "    X_test = fold_info[f][1]\n",
        "    y_train_id = fold_info[f][2]\n",
        "    y_test_id = fold_info[f][3]\n",
        "    y_train_file, y_test_file = fold_file[f]\n",
        "\n",
        "    n_val = len(X_train) // 4\n",
        "    X_val = X_train[:n_val]\n",
        "    X_train = X_train[n_val:]\n",
        "    y_val_id = y_train_id[:n_val]\n",
        "    y_train_id = y_train_id[n_val:]\n",
        "    y_val_file = y_train_file[:n_val]\n",
        "    y_train_file = y_train_file[n_val:]\n",
        "    \n",
        "    x_train = []\n",
        "    y_train = []\n",
        "    x_test = []\n",
        "    y_test = []\n",
        "    x_val = []\n",
        "    y_val = []\n",
        "    \n",
        "\n",
        "    for  i in range(len(y_train_id)):\n",
        "      try:\n",
        "        participant_id = y_train_id[i]\n",
        "        y_train.append(labels[l][participant_id])\n",
        "        # y_train.append(labels[0][participant_id]+labels[1][participant_id]+labels[2][participant_id]+labels[3][participant_id])\n",
        "        x_train.append(data_feature_dict[y_train_file[i]])\n",
        "      except:\n",
        "        continue\n",
        "\n",
        "    for i in range(len(y_val_id)):\n",
        "      try:\n",
        "        participant_id = y_val_id[i]\n",
        "        y_val.append(labels[l][participant_id])\n",
        "        # y_val.append(labels[0][participant_id]+labels[1][participant_id]+labels[2][participant_id]+labels[3][participant_id])\n",
        "        x_val.append(data_feature_dict[y_val_file[i]])\n",
        "      except:\n",
        "        continue\n",
        "\n",
        "    for i in range(len(y_test_id)):\n",
        "      try:\n",
        "        participant_id = y_test_id[i]\n",
        "        y_test.append(labels[l][participant_id])\n",
        "        # y_test.append(labels[0][participant_id]+labels[1][participant_id]+labels[2][participant_id]+labels[3][participant_id])\n",
        "        x_test.append(data_feature_dict[y_test_file[i]])\n",
        "      except:\n",
        "        continue\n",
        "\n",
        "    max_features = 20000\n",
        "    # cut texts after this number of words (among top max_features most common words)\n",
        "    maxlen = 50\n",
        "    batch_size = 8\n",
        "\n",
        "    train = x_train\n",
        "    val = x_val\n",
        "    test = x_test\n",
        "\n",
        "    # for mdata in x_train:\n",
        "    #   mdata = np.array(mdata, dtype=float)\n",
        "    #   train.append(np.concatenate((np.mean(mdata, axis=0), np.std(mdata, axis=0), np.mean(np.diff(mdata, axis=0), axis=0)), axis = 0))\n",
        "\n",
        "    # for mdata in x_val:\n",
        "    #   mdata = np.array(mdata, dtype=float)\n",
        "    #   val.append(np.concatenate((np.mean(mdata, axis=0), np.std(mdata, axis=0), np.mean(np.diff(mdata, axis=0), axis=0)), axis = 0))\n",
        "\n",
        "    # for mdata in x_test:\n",
        "    #   mdata = np.array(mdata, dtype=float)\n",
        "    #   test.append(np.concatenate((np.mean(mdata, axis=0), np.std(mdata, axis=0), np.mean(np.diff(mdata, axis=0), axis=0)), axis = 0))\n",
        "       \n",
        "    train = np.array(train)\n",
        "    test = np.array(test)\n",
        "    val = np.array(val)\n",
        "\n",
        "    scaler_y = MinMaxScaler((-1,1))\n",
        "    scaler_y.fit(np.array(y_train).reshape(-1,1))\n",
        "    y_train = scaler_y.transform(np.array(y_train).reshape(-1,1))\n",
        "    y_val = scaler_y.transform(np.array(y_val).reshape(-1,1))\n",
        "    y_test_normed = scaler_y.transform(np.array(y_test).reshape(-1,1))\n",
        "    \n",
        "    from sklearn.svm import SVC\n",
        "    from sklearn.linear_model import LogisticRegression, LinearRegression\n",
        "    from sklearn.metrics import balanced_accuracy_score\n",
        "    from collections import Counter\n",
        "    from sklearn.impute import SimpleImputer\n",
        "    import warnings\n",
        "    from sklearn.utils.testing import ignore_warnings\n",
        "    from sklearn.exceptions import ConvergenceWarning\n",
        "    ignore_warnings(category=ConvergenceWarning)\n",
        "\n",
        "    imp = SimpleImputer(missing_values=np.nan, strategy='mean')\n",
        "    imp = imp.fit(train)\n",
        "    train = imp.transform(train)\n",
        "    val = imp.transform(val)\n",
        "    test = imp.transform(test)\n",
        "\n",
        "    # class_weight = {1:1, 0:1.5*class_cnt[1]/class_cnt[0]}\n",
        "    kernels = [\"rbf\"]\n",
        "    Cs = [0.1, 1, 10, 100, 1000]\n",
        "    bestC = 0\n",
        "    best_kernels = \"rbf\"\n",
        "    best_val_mse = 100000\n",
        "    # for kernel in kernels:\n",
        "    # for C in Cs:\n",
        "    #   # clf = SVC(C=C, kernel=kernel).fit(train, y_train)\n",
        "    #   clf = LogisticRegression(C=C, max_iter=1000).fit(train, y_train)\n",
        "    #   y_val_pred = clf.predict(val)\n",
        "    #   current_mse = mean_squared_error(y_val, y_val_pred)\n",
        "    #   if(current_mse < best_val_mse):\n",
        "    #     bestC = C\n",
        "    #     # best_kernels = kernel\n",
        "    # best_clf = LinearRegression().fit(train,y_train)\n",
        "    best_clf = SVR(C=1).fit(train, y_train.ravel())\n",
        "    y_test_pred = best_clf.predict(test)\n",
        "    y_test = np.array(y_test)\n",
        "\n",
        "    pcc, pv = pearsonr(y_test_pred.reshape(-1,), y_test.reshape(-1,))\n",
        "    mae = mean_absolute_error(y_test.reshape(-1,), scaler_y.inverse_transform(y_test_pred.reshape(-1,1)).reshape(-1,))\n",
        "    mse = mean_squared_error(y_test.reshape(-1,), scaler_y.inverse_transform(y_test_pred.reshape(-1,1)).reshape(-1,), squared=False)\n",
        "\n",
        "    # print('Fold', f, pcc, mae, mse)\n",
        "    overall.append([abs(pcc), mae, mse])\n",
        "  print(painss_col[l], np.mean(np.array(overall), axis=0))\n",
        "  # print(\"Sum cains: \", np.mean(np.array(overall), axis=0))\n",
        "  \n",
        "  std_stream_output.append([painss_col[l], np.mean(np.array(overall), axis=0)])\n",
        "print(std_stream_output)"
      ],
      "execution_count": null,
      "outputs": [
        {
          "output_type": "stream",
          "text": [
            "1. Unusual Thought Content [0.30723126 0.59355137 0.79163973]\n",
            "2. Delusions [0.34927184 1.08218432 1.3453445 ]\n",
            "3. Grandiosity [0.21948244 0.66241679 1.00616413]\n",
            "4. Suspiciousness/Persecution [0.36494407 0.91597088 1.21373076]\n",
            "5. Hallucinatory Behavior [0.43372344 1.07869645 1.41378073]\n",
            "8. Lack of Spontaneity/Flow of Conversation [0.47402897 0.85715004 1.26953469]\n",
            "13. Conceptual Disorganization [0.37798397 1.02799215 1.41627962]\n",
            "14. Incoherent Speech [0.36862519 0.34251207 0.60453095]\n",
            "15. Poverty of Speech Content [0.51586563 0.64969423 0.9994545 ]\n",
            "27. Stereotyped Thinking [0.58056758 0.42337057 0.654755  ]\n",
            "[['1. Unusual Thought Content', array([0.30723126, 0.59355137, 0.79163973])], ['2. Delusions', array([0.34927184, 1.08218432, 1.3453445 ])], ['3. Grandiosity', array([0.21948244, 0.66241679, 1.00616413])], ['4. Suspiciousness/Persecution', array([0.36494407, 0.91597088, 1.21373076])], ['5. Hallucinatory Behavior', array([0.43372344, 1.07869645, 1.41378073])], ['8. Lack of Spontaneity/Flow of Conversation', array([0.47402897, 0.85715004, 1.26953469])], ['13. Conceptual Disorganization', array([0.37798397, 1.02799215, 1.41627962])], ['14. Incoherent Speech', array([0.36862519, 0.34251207, 0.60453095])], ['15. Poverty of Speech Content', array([0.51586563, 0.64969423, 0.9994545 ])], ['27. Stereotyped Thinking', array([0.58056758, 0.42337057, 0.654755  ])]]\n"
          ],
          "name": "stdout"
        }
      ]
    },
    {
      "cell_type": "code",
      "metadata": {
        "id": "mLKERa0TbMFE",
        "colab": {
          "base_uri": "https://localhost:8080/"
        },
        "outputId": "71729a1d-a81a-4354-afe6-b30150f9dae1"
      },
      "source": [
        "C = 1\n",
        "1. Unusual Thought Content [0.30723126 0.59355137 0.79163973]\n",
        "2. Delusions [0.34927184 1.08218432 1.3453445 ]\n",
        "3. Grandiosity [0.20244287 0.66241679 1.00616413]\n",
        "4. Suspiciousness/Persecution [0.36494407 0.91597088 1.21373076]\n",
        "5. Hallucinatory Behavior [0.43372344 1.07869645 1.41378073]\n",
        "8. Lack of Spontaneity/Flow of Conversation [0.47402897 0.85715004 1.26953469]\n",
        "13. Conceptual Disorganization [0.37798397 1.02799215 1.41627962]\n",
        "14. Incoherent Speech [0.36862519 0.34251207 0.60453095]\n",
        "15. Poverty of Speech Content [0.51586563 0.64969423 0.9994545 ]\n",
        "27. Stereotyped Thinking [0.58056758 0.42337057 0.654755  ]\n",
        "\n",
        "C=10\n",
        "1. Unusual Thought Content [0.26243992 0.63439981 0.84429492]\n",
        "2. Delusions [0.45009769 1.04003559 1.31152274]\n",
        "3. Grandiosity [0.26268681 0.72415032 1.04386309]\n",
        "4. Suspiciousness/Persecution [0.30289717 0.99284025 1.27144751]\n",
        "5. Hallucinatory Behavior [0.51567857 0.99901373 1.31305093]\n",
        "8. Lack of Spontaneity/Flow of Conversation [0.4731294  0.89789717 1.26997976]\n",
        "13. Conceptual Disorganization [0.41785448 1.02665481 1.41533431]\n",
        "14. Incoherent Speech [0.42633251 0.34234266 0.59579157]\n",
        "15. Poverty of Speech Content [0.55752256 0.6579772  1.00180983]\n",
        "27. Stereotyped Thinking [0.58670682 0.43925591 0.66657546]\n",
        "\n",
        "C=100\n",
        "1. Unusual Thought Content [0.18004972 0.80842253 1.11260205]\n",
        "2. Delusions [0.31097106 1.31109495 1.75006271]\n",
        "3. Grandiosity [0.30757238 0.83808972 1.14285538]\n",
        "4. Suspiciousness/Persecution [0.26008496 1.16763412 1.55150102]\n",
        "5. Hallucinatory Behavior [0.41173728 1.14310827 1.58249759]\n",
        "8. Lack of Spontaneity/Flow of Conversation [0.35907561 1.11825606 1.52704389]\n",
        "13. Conceptual Disorganization [0.3924987  1.27213528 1.75058395]\n",
        "14. Incoherent Speech [0.36223527 0.43565762 0.7018747 ]\n",
        "15. Poverty of Speech Content [0.53757995 0.76754211 1.14355159]\n",
        "27. Stereotyped Thinking [0.56347525 0.53268323 0.76627679]\n",
        "\n",
        "C=1000\n",
        "1. Unusual Thought Content [0.14637111 1.21225114 1.73948089]\n",
        "2. Delusions [0.19788756 1.83796757 2.73113998]\n",
        "3. Grandiosity [0.25095545 1.25416653 1.80224995]\n",
        "4. Suspiciousness/Persecution [0.22730693 1.67904179 2.42350819]\n",
        "5. Hallucinatory Behavior [0.27762704 1.69080008 2.42291285]\n",
        "8. Lack of Spontaneity/Flow of Conversation [0.23401845 1.68600791 2.39402082]\n",
        "13. Conceptual Disorganization [0.34071145 1.90768854 2.83490476]\n",
        "14. Incoherent Speech [0.27339187 0.66123627 1.03546093]\n",
        "15. Poverty of Speech Content [0.43038829 1.19275058 1.80630309]\n",
        "27. Stereotyped Thinking [0.39754205 0.8700117  1.28855256]"
      ],
      "execution_count": null,
      "outputs": [
        {
          "output_type": "execute_result",
          "data": {
            "text/plain": [
              "[['1. Unusual Thought Content', array([0.30723126, 0.59355137, 0.79163973])],\n",
              " ['2. Delusions', array([0.34927184, 1.08218432, 1.3453445 ])],\n",
              " ['3. Grandiosity', array([0.20244287, 0.66241679, 1.00616413])],\n",
              " ['4. Suspiciousness/Persecution',\n",
              "  array([0.36494407, 0.91597088, 1.21373076])],\n",
              " ['5. Hallucinatory Behavior', array([0.43372344, 1.07869645, 1.41378073])],\n",
              " ['8. Lack of Spontaneity/Flow of Conversation',\n",
              "  array([0.47402897, 0.85715004, 1.26953469])],\n",
              " ['13. Conceptual Disorganization',\n",
              "  array([0.37798397, 1.02799215, 1.41627962])],\n",
              " ['14. Incoherent Speech', array([0.36862519, 0.34251207, 0.60453095])],\n",
              " ['15. Poverty of Speech Content',\n",
              "  array([0.51586563, 0.64969423, 0.9994545 ])],\n",
              " ['27. Stereotyped Thinking', array([0.58056758, 0.42337057, 0.654755  ])]]"
            ]
          },
          "metadata": {
            "tags": []
          },
          "execution_count": 34
        }
      ]
    },
    {
      "cell_type": "code",
      "metadata": {
        "id": "U3hM9DTIbC81"
      },
      "source": [
        "np.concatenate((np.mean(mdata, axis=0), np.std(mdata, axis=0), np.mean(np.diff(mdata, axis=0), axis=0)))"
      ],
      "execution_count": null,
      "outputs": []
    },
    {
      "cell_type": "code",
      "metadata": {
        "id": "wzf6WzarYrY_"
      },
      "source": [
        ""
      ],
      "execution_count": null,
      "outputs": []
    }
  ]
}